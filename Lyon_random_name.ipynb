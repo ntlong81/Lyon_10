{
 "cells": [
  {
   "cell_type": "code",
   "execution_count": 1,
   "metadata": {},
   "outputs": [],
   "source": [
    "text_names = \"\"\"Ha Thuy Linh\n",
    "Le Truong Huy\n",
    "Nguyen Chien Thang\n",
    "Nguyen Ngoc Quynh\n",
    "Nguyen Thanh Huyen\n",
    "Nguyen Thi Hong Anh\n",
    "Nguyen Thi Thanh\n",
    "Nguyen Tien Thang\n",
    "Pham Trinh Bach\n",
    "Pham Tuan Long\n",
    "Tran Nguyen Hai Dang\n",
    "Tran Nguyen Tam\n",
    "Vu Duc Minh\"\"\"\n",
    "names = text_names.splitlines() "
   ]
  },
  {
   "cell_type": "code",
   "execution_count": 2,
   "metadata": {},
   "outputs": [
    {
     "data": {
      "text/plain": [
       "['Pham Trinh Bach']"
      ]
     },
     "execution_count": 2,
     "metadata": {},
     "output_type": "execute_result"
    }
   ],
   "source": [
    "import random\n",
    "random.choices(names, k=1)"
   ]
  },
  {
   "cell_type": "code",
   "execution_count": 3,
   "metadata": {},
   "outputs": [],
   "source": [
    "import pandas as pd "
   ]
  },
  {
   "cell_type": "code",
   "execution_count": null,
   "metadata": {},
   "outputs": [],
   "source": []
  }
 ],
 "metadata": {
  "kernelspec": {
   "display_name": "env-teaching",
   "language": "python",
   "name": "python3"
  },
  "language_info": {
   "codemirror_mode": {
    "name": "ipython",
    "version": 3
   },
   "file_extension": ".py",
   "mimetype": "text/x-python",
   "name": "python",
   "nbconvert_exporter": "python",
   "pygments_lexer": "ipython3",
   "version": "3.11.7"
  }
 },
 "nbformat": 4,
 "nbformat_minor": 2
}
