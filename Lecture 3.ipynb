{
 "cells": [
  {
   "cell_type": "markdown",
   "metadata": {},
   "source": [
    "## Lecture 3"
   ]
  },
  {
   "cell_type": "code",
   "execution_count": 2,
   "metadata": {},
   "outputs": [
    {
     "name": "stdout",
     "output_type": "stream",
     "text": [
      "[0, 1, 4, 9, 16, 25, 36, 49, 64, 81]\n"
     ]
    }
   ],
   "source": [
    "squares = []\n",
    "for i in range(10):\n",
    "    squares.append(i**2)\n",
    "print(squares)"
   ]
  },
  {
   "cell_type": "code",
   "execution_count": 3,
   "metadata": {},
   "outputs": [
    {
     "name": "stdout",
     "output_type": "stream",
     "text": [
      "[1, 3, 5, 7, 9, 11, 13, 15, 17, 19, 21, 23, 25, 27, 29, 31, 33, 35, 37, 39, 41, 43, 45, 47, 49, 51, 53, 55, 57, 59, 61, 63, 65, 67, 69, 71, 73, 75, 77, 79, 81, 83, 85, 87, 89, 91, 93, 95, 97, 99]\n"
     ]
    }
   ],
   "source": [
    "odds = list(range(1,100,2))\n",
    "print(odds)\n"
   ]
  },
  {
   "cell_type": "code",
   "execution_count": 4,
   "metadata": {},
   "outputs": [
    {
     "data": {
      "text/plain": [
       "['__add__',\n",
       " '__class__',\n",
       " '__class_getitem__',\n",
       " '__contains__',\n",
       " '__delattr__',\n",
       " '__delitem__',\n",
       " '__dir__',\n",
       " '__doc__',\n",
       " '__eq__',\n",
       " '__format__',\n",
       " '__ge__',\n",
       " '__getattribute__',\n",
       " '__getitem__',\n",
       " '__getstate__',\n",
       " '__gt__',\n",
       " '__hash__',\n",
       " '__iadd__',\n",
       " '__imul__',\n",
       " '__init__',\n",
       " '__init_subclass__',\n",
       " '__iter__',\n",
       " '__le__',\n",
       " '__len__',\n",
       " '__lt__',\n",
       " '__mul__',\n",
       " '__ne__',\n",
       " '__new__',\n",
       " '__reduce__',\n",
       " '__reduce_ex__',\n",
       " '__repr__',\n",
       " '__reversed__',\n",
       " '__rmul__',\n",
       " '__setattr__',\n",
       " '__setitem__',\n",
       " '__sizeof__',\n",
       " '__str__',\n",
       " '__subclasshook__',\n",
       " 'append',\n",
       " 'clear',\n",
       " 'copy',\n",
       " 'count',\n",
       " 'extend',\n",
       " 'index',\n",
       " 'insert',\n",
       " 'pop',\n",
       " 'remove',\n",
       " 'reverse',\n",
       " 'sort']"
      ]
     },
     "execution_count": 4,
     "metadata": {},
     "output_type": "execute_result"
    }
   ],
   "source": [
    "dir(odds)"
   ]
  },
  {
   "cell_type": "code",
   "execution_count": 5,
   "metadata": {},
   "outputs": [
    {
     "name": "stdout",
     "output_type": "stream",
     "text": [
      "[0, 1, 4, 9, 16, 25, 36, 49, 64, 81]\n"
     ]
    }
   ],
   "source": [
    "squares = [i**2 for i in range(10)]\n",
    "print(squares)"
   ]
  },
  {
   "cell_type": "code",
   "execution_count": 7,
   "metadata": {},
   "outputs": [
    {
     "name": "stdout",
     "output_type": "stream",
     "text": [
      "[1, 2, 3, 4, 2, 1]\n",
      "['new', 2, 3, 4, 2, 1]\n"
     ]
    }
   ],
   "source": [
    "#shalow copy\n",
    "alist = [1,2,3,4,2,1]\n",
    "blist = alist[:]# alist.copy() \n",
    "blist[0]='new'\n",
    "print(alist)\n",
    "print(blist)"
   ]
  },
  {
   "cell_type": "code",
   "execution_count": 8,
   "metadata": {},
   "outputs": [
    {
     "name": "stdout",
     "output_type": "stream",
     "text": [
      "[[1, 'new'], 3, 4, 2, 1]\n",
      "[[1, 'new'], 3, 4, 2, 1]\n"
     ]
    }
   ],
   "source": [
    "#shalow copy and deep copy\n",
    "alist = [[1,2],3,4,2,1]\n",
    "blist = alist[:] \n",
    "blist[0][1]='new'\n",
    "print(alist)\n",
    "print(blist)"
   ]
  },
  {
   "cell_type": "code",
   "execution_count": 9,
   "metadata": {},
   "outputs": [
    {
     "name": "stdout",
     "output_type": "stream",
     "text": [
      "(0, 1, 2, 3, 4, 5, 6, 7, 8, 9)\n"
     ]
    }
   ],
   "source": [
    "atuple = tuple(range(10))\n",
    "print(atuple)"
   ]
  },
  {
   "cell_type": "code",
   "execution_count": 10,
   "metadata": {},
   "outputs": [
    {
     "ename": "TypeError",
     "evalue": "'tuple' object does not support item assignment",
     "output_type": "error",
     "traceback": [
      "\u001b[1;31m---------------------------------------------------------------------------\u001b[0m",
      "\u001b[1;31mTypeError\u001b[0m                                 Traceback (most recent call last)",
      "Cell \u001b[1;32mIn[10], line 1\u001b[0m\n\u001b[1;32m----> 1\u001b[0m \u001b[43matuple\u001b[49m\u001b[43m[\u001b[49m\u001b[38;5;241;43m2\u001b[39;49m\u001b[43m]\u001b[49m \u001b[38;5;241m=\u001b[39m \u001b[38;5;241m3\u001b[39m\n",
      "\u001b[1;31mTypeError\u001b[0m: 'tuple' object does not support item assignment"
     ]
    }
   ],
   "source": [
    "atuple[2] = 3"
   ]
  },
  {
   "cell_type": "code",
   "execution_count": 11,
   "metadata": {},
   "outputs": [
    {
     "ename": "AttributeError",
     "evalue": "'tuple' object has no attribute 'append'",
     "output_type": "error",
     "traceback": [
      "\u001b[1;31m---------------------------------------------------------------------------\u001b[0m",
      "\u001b[1;31mAttributeError\u001b[0m                            Traceback (most recent call last)",
      "Cell \u001b[1;32mIn[11], line 1\u001b[0m\n\u001b[1;32m----> 1\u001b[0m \u001b[43matuple\u001b[49m\u001b[38;5;241;43m.\u001b[39;49m\u001b[43mappend\u001b[49m(\u001b[38;5;241m2\u001b[39m)\n",
      "\u001b[1;31mAttributeError\u001b[0m: 'tuple' object has no attribute 'append'"
     ]
    }
   ],
   "source": [
    "atuple.append(2)"
   ]
  },
  {
   "cell_type": "code",
   "execution_count": 12,
   "metadata": {},
   "outputs": [
    {
     "ename": "AttributeError",
     "evalue": "'tuple' object has no attribute 'pop'",
     "output_type": "error",
     "traceback": [
      "\u001b[1;31m---------------------------------------------------------------------------\u001b[0m",
      "\u001b[1;31mAttributeError\u001b[0m                            Traceback (most recent call last)",
      "Cell \u001b[1;32mIn[12], line 1\u001b[0m\n\u001b[1;32m----> 1\u001b[0m \u001b[43matuple\u001b[49m\u001b[38;5;241;43m.\u001b[39;49m\u001b[43mpop\u001b[49m()\n",
      "\u001b[1;31mAttributeError\u001b[0m: 'tuple' object has no attribute 'pop'"
     ]
    }
   ],
   "source": [
    "atuple.pop()"
   ]
  },
  {
   "cell_type": "code",
   "execution_count": 13,
   "metadata": {},
   "outputs": [],
   "source": [
    "atuple = (1,2)"
   ]
  },
  {
   "cell_type": "code",
   "execution_count": 14,
   "metadata": {},
   "outputs": [
    {
     "data": {
      "text/plain": [
       "[1, 2, 3, 4, 4, 5]"
      ]
     },
     "execution_count": 14,
     "metadata": {},
     "output_type": "execute_result"
    }
   ],
   "source": [
    "[1,2,3,4] +[4,5]"
   ]
  },
  {
   "cell_type": "code",
   "execution_count": 16,
   "metadata": {},
   "outputs": [
    {
     "data": {
      "text/plain": [
       "(1, 2, 3, 4, 4, 5)"
      ]
     },
     "execution_count": 16,
     "metadata": {},
     "output_type": "execute_result"
    }
   ],
   "source": [
    "x= (1,2,3,4) \n",
    "x += (4,5)\n",
    "x"
   ]
  },
  {
   "cell_type": "code",
   "execution_count": 19,
   "metadata": {},
   "outputs": [
    {
     "data": {
      "text/plain": [
       "{1, 2, 3, 4}"
      ]
     },
     "execution_count": 19,
     "metadata": {},
     "output_type": "execute_result"
    }
   ],
   "source": [
    "{1,2,3}.union({1,2,4})"
   ]
  },
  {
   "cell_type": "code",
   "execution_count": 20,
   "metadata": {},
   "outputs": [
    {
     "data": {
      "text/plain": [
       "{1, 2}"
      ]
     },
     "execution_count": 20,
     "metadata": {},
     "output_type": "execute_result"
    }
   ],
   "source": [
    "{1,2,3}.intersection({1,2,4})"
   ]
  },
  {
   "cell_type": "code",
   "execution_count": 21,
   "metadata": {},
   "outputs": [
    {
     "data": {
      "text/plain": [
       "{3}"
      ]
     },
     "execution_count": 21,
     "metadata": {},
     "output_type": "execute_result"
    }
   ],
   "source": [
    "{1,2,3}.difference({1,2,4})"
   ]
  },
  {
   "cell_type": "code",
   "execution_count": 22,
   "metadata": {},
   "outputs": [
    {
     "name": "stdout",
     "output_type": "stream",
     "text": [
      "The Zen of Python, by Tim Peters\n",
      "\n",
      "Beautiful is better than ugly.\n",
      "Explicit is better than implicit.\n",
      "Simple is better than complex.\n",
      "Complex is better than complicated.\n",
      "Flat is better than nested.\n",
      "Sparse is better than dense.\n",
      "Readability counts.\n",
      "Special cases aren't special enough to break the rules.\n",
      "Although practicality beats purity.\n",
      "Errors should never pass silently.\n",
      "Unless explicitly silenced.\n",
      "In the face of ambiguity, refuse the temptation to guess.\n",
      "There should be one-- and preferably only one --obvious way to do it.\n",
      "Although that way may not be obvious at first unless you're Dutch.\n",
      "Now is better than never.\n",
      "Although never is often better than *right* now.\n",
      "If the implementation is hard to explain, it's a bad idea.\n",
      "If the implementation is easy to explain, it may be a good idea.\n",
      "Namespaces are one honking great idea -- let's do more of those!\n"
     ]
    }
   ],
   "source": [
    "import this "
   ]
  },
  {
   "cell_type": "code",
   "execution_count": 23,
   "metadata": {},
   "outputs": [],
   "source": [
    "text = ''' Beautiful is better than ugly.\n",
    "Explicit is better than implicit.\n",
    "Simple is better than complex.\n",
    "Complex is better than complicated.\n",
    "Flat is better than nested.\n",
    "Sparse is better than dense.\n",
    "Readability counts.\n",
    "Special cases aren't special enough to break the rules.\n",
    "Although practicality beats purity.\n",
    "Errors should never pass silently.\n",
    "Unless explicitly silenced.\n",
    "In the face of ambiguity, refuse the temptation to guess.\n",
    "There should be one-- and preferably only one --obvious way to do it.\n",
    "Although that way may not be obvious at first unless you're Dutch.\n",
    "Now is better than never.\n",
    "Although never is often better than *right* now.\n",
    "If the implementation is hard to explain, it's a bad idea.\n",
    "If the implementation is easy to explain, it may be a good idea.\n",
    "Namespaces are one honking great idea -- let's do more of those!\n",
    "'''"
   ]
  },
  {
   "cell_type": "code",
   "execution_count": 25,
   "metadata": {},
   "outputs": [],
   "source": [
    "#normalize\n",
    "text_nor = text.lower()\n",
    "for char in {'.','*',',','-',}:\n",
    "    text_nor = text_nor.replace(char, ' ')"
   ]
  },
  {
   "cell_type": "code",
   "execution_count": 28,
   "metadata": {},
   "outputs": [
    {
     "name": "stdout",
     "output_type": "stream",
     "text": [
      "[('good', 1), (\"it's\", 1), ('more', 1), ('bad', 1), ('dutch', 1), ('silenced', 1), (\"you're\", 1), ('only', 1), ('do', 2), ('enough', 1), ('often', 1), ('flat', 1), (\"let's\", 1), ('not', 1), ('and', 1), ('face', 1), ('rules', 1), ('the', 5), ('beats', 1), ('to', 5), ('explain', 2), ('ambiguity', 1), ('hard', 1), ('readability', 1), ('practicality', 1), ('in', 1), ('complicated', 1), ('one', 3), ('counts', 1), ('easy', 1), ('pass', 1), ('be', 3), ('obvious', 2), ('dense', 1), (\"aren't\", 1), ('special', 2), ('may', 2), ('cases', 1), ('should', 2), ('sparse', 1), ('there', 1), ('a', 2), ('than', 8), ('right', 1), ('beautiful', 1), ('better', 8), ('temptation', 1), ('although', 3), ('simple', 1), ('explicitly', 1), ('idea', 3), ('of', 2), ('guess', 1), ('complex', 2), ('nested', 1), ('explicit', 1), ('preferably', 1), ('way', 2), ('unless', 2), ('now', 2), ('are', 1), ('at', 1), ('implementation', 2), ('silently', 1), ('those!', 1), ('never', 3), ('first', 1), ('namespaces', 1), ('honking', 1), ('break', 1), ('is', 10), ('refuse', 1), ('great', 1), ('errors', 1), ('implicit', 1), ('that', 1), ('it', 2), ('ugly', 1), ('purity', 1), ('if', 2)]\n"
     ]
    }
   ],
   "source": [
    "#count\n",
    "words = text_nor.split()\n",
    "unique_words = set(words)\n",
    "fre_words = [] #[('w1',3),('w2',4),...]\n",
    "for word in unique_words:\n",
    "    fre_words.append((word, words.count(word)))\n",
    "print(fre_words)"
   ]
  },
  {
   "cell_type": "code",
   "execution_count": 29,
   "metadata": {},
   "outputs": [
    {
     "data": {
      "text/plain": [
       "[('is', 10), ('than', 8), ('better', 8), ('the', 5), ('to', 5)]"
      ]
     },
     "execution_count": 29,
     "metadata": {},
     "output_type": "execute_result"
    }
   ],
   "source": [
    "sorted(fre_words, key=lambda x: x[1], reverse= True)[:5]"
   ]
  },
  {
   "cell_type": "code",
   "execution_count": 30,
   "metadata": {},
   "outputs": [],
   "source": [
    "tex_1 = '''\n",
    "asically the answer is yes, although we can also give a slightly more complicated answer:\n",
    "\n",
    "In Mean Variance Optimization we traditionally consider two problems:\n",
    "\n",
    "First the slightly simpler problem when there are N risky assets. In this case the solution is a curve, the famous \"efficient frontier\".\n",
    "\n",
    "Then, in the next chapter of the textbook, we consider that there are N risky assets and one risk-free asset, so a total of N+1 assets. In this case we can go a little further and the solution concept involves a single point on the frontier, the famous \"tangency portfolio\" which is also the point that achieves the \"maximum sharpe ratio\". And mixes of risk free and tangency portfolio also have this Sharpe ratio and are valid solutions.\n",
    "\n",
    "(So in this version of the problem the answer to your question is a definite yes. But you will also find people who will say that Mean Variance Optimization is equivalent to finding the efficient frontier; that is another way to look at it, when you don't assume a risk-free asset).\n",
    " '''"
   ]
  },
  {
   "cell_type": "code",
   "execution_count": 31,
   "metadata": {},
   "outputs": [
    {
     "data": {
      "text/plain": [
       "{'a', 'd', 'f', 's'}"
      ]
     },
     "execution_count": 31,
     "metadata": {},
     "output_type": "execute_result"
    }
   ],
   "source": [
    "set('sdfafaf')"
   ]
  },
  {
   "cell_type": "code",
   "execution_count": 32,
   "metadata": {},
   "outputs": [
    {
     "data": {
      "text/plain": [
       "43"
      ]
     },
     "execution_count": 32,
     "metadata": {},
     "output_type": "execute_result"
    }
   ],
   "source": [
    "len(set(text))"
   ]
  },
  {
   "cell_type": "code",
   "execution_count": 33,
   "metadata": {},
   "outputs": [
    {
     "data": {
      "text/plain": [
       "824"
      ]
     },
     "execution_count": 33,
     "metadata": {},
     "output_type": "execute_result"
    }
   ],
   "source": [
    "len(text)"
   ]
  },
  {
   "cell_type": "code",
   "execution_count": 34,
   "metadata": {},
   "outputs": [
    {
     "data": {
      "text/plain": [
       "136"
      ]
     },
     "execution_count": 34,
     "metadata": {},
     "output_type": "execute_result"
    }
   ],
   "source": [
    "len(words)"
   ]
  },
  {
   "cell_type": "code",
   "execution_count": 35,
   "metadata": {},
   "outputs": [],
   "source": [
    "with open('input.txt','r',encoding='utf8') as file:\n",
    "    txt = file.read()"
   ]
  },
  {
   "cell_type": "code",
   "execution_count": 36,
   "metadata": {},
   "outputs": [
    {
     "data": {
      "text/plain": [
       "'To help you understand why prompt engineering\\nis so important, I\\'m going to give you\\nan initial example that shows where we tap into really complex\\ncapabilities of ChatGPT. But you can also do this with other large language models. The way we tap into these capabilities is\\nby using a pattern, a pattern that we can use\\nwhen we\\'re writing prompts to get into these really\\ninteresting abilities of the large language models. Now, if you know these\\npatterns and we\\'ll talk about them in detail\\nin this course, you\\'ll be more effective\\nin writing prompts. You\\'ll be able to do things that other people won\\'t be\\nable to do as easily. Now, I\\'m going to\\ngive you an example. It\\'s going to use something\\ncalled the persona pattern. Now I\\'m not going to\\ngo into detail about the persona pattern\\nat this point. But basically it\\'s a pattern that we see all over the place. You\\'ll see lots of\\ndifferent examples of this pattern out there on the Internet where\\npeople talk about using it to do lots and lots\\nof different things. But the basic idea\\nis you\\'re going to ask the large language\\nmodel in this case ChatGPT, you\\'re going to ask it to act\\nlike a particular persona. Now what does that\\nmean? It means like you\\'re going\\nto ask it to act like a person or some\\ninanimate object, or an animal, or some system. There\\'s all kinds of ways\\nthat you can use this. It\\'s really interesting. But we\\'re going to use\\nit in this example to tap into a persona\\nthat is close to me, but one that I know\\nnothing about the domain. One of the really useful things about the persona pattern, as you can imagine, if\\nyou needed to go phone an expert to get help\\non some problem, you know who you would call but you don\\'t know\\nexactly what they would tell you or how they\\nwould analyze your problem, and so I wanted something in the way I know an expert that I could\\ngo to in this case, my wife is a speech\\nlanguage pathologist. I can have her look at the output and tell\\nme how good it was. But I know nothing about being a speech language pathologist\\nor how to do their job. I imagined that when\\nmy son was three, he was not saying\\nthings properly. I went to ChatGPT and I said act as a speech-language\\npathologist. I\\'m going to tell you\\nwhat a three-year-old said and you will write\\nan assessment for me. The child said,\\n\"I meed way woy.\" Now you can imagine\\nthis might just me being a parent hearing\\nit incorrectly. The child\\'s not pronouncing\\nthings correctly. I don\\'t know the right\\nway to even capture this, to even express what\\'s\\nbeing said in words, the right way to do all of this. This is a complex problem\\nfrom my perspective. I don\\'t know how to express\\nall of this in language, even to ask the\\nquestion properly. But I know I would go to a speech language pathologist and I would describe\\nthis to him. I tried to think of something\\nthat sounded like something my son might have said\\nat that point in time. What did ChatGPT say? Well, you notice first off, its output looks like a report. It says subject assessment of a three-year-old speech\\nsample, child\\'s speech sample. \"I meed way woy\" has it in quotation marks and\\nit says assessment. Based on the provided\\nspeech sample, it appears the child\\nmay be experiencing some phonological and\\narticulation errors, which are common in\\nchildren around this age. I don\\'t know what phonological or articulation errors are. I would not have known to ask\\nChatGPT for these things. But based on this pattern that I\\'m using, this\\npersona pattern, I\\'m tapping into\\nthis capability for ChatGPT to look at this and know what the right\\nthings are to tell me. It says there\\'s phonological\\nand articulation error. It says the child\\'s utterance\\nappears to have errors and consonant production and possibly some difficulty\\nwith syllable structure. It says consonant errors. It seems that the child is having difficulty with\\nthe production of some consonant sounds\\nspecifically the n and l sounds. The child said meed instead of need and woy instead of toy. Then it has in parentheses\\nit\\'s assumption. It says assuming the\\nintended words were need and toy because you can remember\\nmy speech sample was, I meed way woy, which my wife told me it wasn\\'t\\na very good example, may not be something that a\\nchild would actually say. Despite that, it\\'s\\nstill figuring out if that\\'s really\\nwhat the child said, this is probably what they\\nwere intending to say and it\\'s figuring that out and then it\\'s telling me they\\'re\\nhaving consonant errors. They\\'re specifically having\\ntrouble with n and l sounds. Then it goes on to say\\nsyllable structure. The child\\'s production\\nof the word way may indicate some difficulty with the correct syllable structure. It is possible that the\\nchild intended to say play, but produced way instead, which suggests a substitution of the initial consonant cluster\\npl with a single consonant w. This could be an example of a simplification process\\ncalled cluster reduction. I would not have known\\nhow to ask ChatGPT to see if there was problem with syllable structure or\\ncluster reduction. But I used this pattern\\nof saying act as, and I said act as a speech language\\npathologist and now I\\'m getting rich output that I wouldn\\'t even know\\nhow to ask for. Then it goes on to say\\nbecause by the way, if you want to do something really unpopular\\nas ChatGPT to produce an output that looks\\nlike it\\'s doing somebody\\'s job and that\\'s always a way to be very popular. I did this with my wife one morning and my wife was not very happy\\nbecause she was trying to get ready to go to\\nwork and here I am saying ChatGPT is producing things that look like what you produce. One of her things that\\nshe said to me was, if that was a three-year-old, I\\'d be telling the parents they probably don\\'t need to worry, children\\'s speech\\nis continuing to evolve and I\\'m paraphrasing\\nwhat she said. She said it much more\\neloquently, but she was like, it\\'s just giving you a way\\noverblown analysis of this. I said, yeah, but ChatGPT says\\nthat too at the end, considering the child\\'s age, it is important to remember that some speech sound errors are developmentally\\nappropriate and may resolve on their own with time. Of course, by that time she\\nwas walking out the door because she wasn\\'t ready to sit around in the morning and listen to me tell her that ChatGPT is doing what a speech\\nlanguage pathologist does. Do I think it\\'s going\\nto take her job? No. But do I think it has really vast and\\npowerful capabilities that we can tap into\\nwith the right patterns? Absolutely. Do I think\\nit gives us the ability to focus on the things that maybe we really want\\nto spend our time on? My wife loves working with kids. She loves interacting\\nwith them and trying to understand\\nhow to help them. Writing reports,\\nmaybe I\\'m not sure. I don\\'t want to speak\\ntoo much for my wife, but I would guess it\\'s maybe not her most favorite\\npart of the job. She really loves working with the kids and trying\\nto help the kids. You can imagine something\\nlike this where it allows her to focus more on the things that she really cares about in the real-world. Maybe it can help her to\\ngive form to her thought around the child\\'s needs\\nand write these reports. I hope that you\\'ll see\\nthat with a little bit of the right structure\\nin our prompts, we can create these\\nreally powerful ways of giving form to our ideas and our thoughts through large language\\nmodels like ChatGPT.'"
      ]
     },
     "execution_count": 36,
     "metadata": {},
     "output_type": "execute_result"
    }
   ],
   "source": []
  },
  {
   "cell_type": "code",
   "execution_count": 38,
   "metadata": {},
   "outputs": [],
   "source": [
    "path = r\"C:\\Users\\Admin\\Downloads\\input.txt\"\n",
    "with open(path, 'r',encoding='utf8') as file:\n",
    "    txt1 = file.read()"
   ]
  },
  {
   "cell_type": "code",
   "execution_count": 39,
   "metadata": {},
   "outputs": [
    {
     "data": {
      "text/plain": [
       "'To help you understand why prompt engineering\\nis so important, I\\'m going to give you\\nan initial example that shows where we tap into really complex\\ncapabilities of ChatGPT. But you can also do this with other large language models. The way we tap into these capabilities is\\nby using a pattern, a pattern that we can use\\nwhen we\\'re writing prompts to get into these really\\ninteresting abilities of the large language models. Now, if you know these\\npatterns and we\\'ll talk about them in detail\\nin this course, you\\'ll be more effective\\nin writing prompts. You\\'ll be able to do things that other people won\\'t be\\nable to do as easily. Now, I\\'m going to\\ngive you an example. It\\'s going to use something\\ncalled the persona pattern. Now I\\'m not going to\\ngo into detail about the persona pattern\\nat this point. But basically it\\'s a pattern that we see all over the place. You\\'ll see lots of\\ndifferent examples of this pattern out there on the Internet where\\npeople talk about using it to do lots and lots\\nof different things. But the basic idea\\nis you\\'re going to ask the large language\\nmodel in this case ChatGPT, you\\'re going to ask it to act\\nlike a particular persona. Now what does that\\nmean? It means like you\\'re going\\nto ask it to act like a person or some\\ninanimate object, or an animal, or some system. There\\'s all kinds of ways\\nthat you can use this. It\\'s really interesting. But we\\'re going to use\\nit in this example to tap into a persona\\nthat is close to me, but one that I know\\nnothing about the domain. One of the really useful things about the persona pattern, as you can imagine, if\\nyou needed to go phone an expert to get help\\non some problem, you know who you would call but you don\\'t know\\nexactly what they would tell you or how they\\nwould analyze your problem, and so I wanted something in the way I know an expert that I could\\ngo to in this case, my wife is a speech\\nlanguage pathologist. I can have her look at the output and tell\\nme how good it was. But I know nothing about being a speech language pathologist\\nor how to do their job. I imagined that when\\nmy son was three, he was not saying\\nthings properly. I went to ChatGPT and I said act as a speech-language\\npathologist. I\\'m going to tell you\\nwhat a three-year-old said and you will write\\nan assessment for me. The child said,\\n\"I meed way woy.\" Now you can imagine\\nthis might just me being a parent hearing\\nit incorrectly. The child\\'s not pronouncing\\nthings correctly. I don\\'t know the right\\nway to even capture this, to even express what\\'s\\nbeing said in words, the right way to do all of this. This is a complex problem\\nfrom my perspective. I don\\'t know how to express\\nall of this in language, even to ask the\\nquestion properly. But I know I would go to a speech language pathologist and I would describe\\nthis to him. I tried to think of something\\nthat sounded like something my son might have said\\nat that point in time. What did ChatGPT say? Well, you notice first off, its output looks like a report. It says subject assessment of a three-year-old speech\\nsample, child\\'s speech sample. \"I meed way woy\" has it in quotation marks and\\nit says assessment. Based on the provided\\nspeech sample, it appears the child\\nmay be experiencing some phonological and\\narticulation errors, which are common in\\nchildren around this age. I don\\'t know what phonological or articulation errors are. I would not have known to ask\\nChatGPT for these things. But based on this pattern that I\\'m using, this\\npersona pattern, I\\'m tapping into\\nthis capability for ChatGPT to look at this and know what the right\\nthings are to tell me. It says there\\'s phonological\\nand articulation error. It says the child\\'s utterance\\nappears to have errors and consonant production and possibly some difficulty\\nwith syllable structure. It says consonant errors. It seems that the child is having difficulty with\\nthe production of some consonant sounds\\nspecifically the n and l sounds. The child said meed instead of need and woy instead of toy. Then it has in parentheses\\nit\\'s assumption. It says assuming the\\nintended words were need and toy because you can remember\\nmy speech sample was, I meed way woy, which my wife told me it wasn\\'t\\na very good example, may not be something that a\\nchild would actually say. Despite that, it\\'s\\nstill figuring out if that\\'s really\\nwhat the child said, this is probably what they\\nwere intending to say and it\\'s figuring that out and then it\\'s telling me they\\'re\\nhaving consonant errors. They\\'re specifically having\\ntrouble with n and l sounds. Then it goes on to say\\nsyllable structure. The child\\'s production\\nof the word way may indicate some difficulty with the correct syllable structure. It is possible that the\\nchild intended to say play, but produced way instead, which suggests a substitution of the initial consonant cluster\\npl with a single consonant w. This could be an example of a simplification process\\ncalled cluster reduction. I would not have known\\nhow to ask ChatGPT to see if there was problem with syllable structure or\\ncluster reduction. But I used this pattern\\nof saying act as, and I said act as a speech language\\npathologist and now I\\'m getting rich output that I wouldn\\'t even know\\nhow to ask for. Then it goes on to say\\nbecause by the way, if you want to do something really unpopular\\nas ChatGPT to produce an output that looks\\nlike it\\'s doing somebody\\'s job and that\\'s always a way to be very popular. I did this with my wife one morning and my wife was not very happy\\nbecause she was trying to get ready to go to\\nwork and here I am saying ChatGPT is producing things that look like what you produce. One of her things that\\nshe said to me was, if that was a three-year-old, I\\'d be telling the parents they probably don\\'t need to worry, children\\'s speech\\nis continuing to evolve and I\\'m paraphrasing\\nwhat she said. She said it much more\\neloquently, but she was like, it\\'s just giving you a way\\noverblown analysis of this. I said, yeah, but ChatGPT says\\nthat too at the end, considering the child\\'s age, it is important to remember that some speech sound errors are developmentally\\nappropriate and may resolve on their own with time. Of course, by that time she\\nwas walking out the door because she wasn\\'t ready to sit around in the morning and listen to me tell her that ChatGPT is doing what a speech\\nlanguage pathologist does. Do I think it\\'s going\\nto take her job? No. But do I think it has really vast and\\npowerful capabilities that we can tap into\\nwith the right patterns? Absolutely. Do I think\\nit gives us the ability to focus on the things that maybe we really want\\nto spend our time on? My wife loves working with kids. She loves interacting\\nwith them and trying to understand\\nhow to help them. Writing reports,\\nmaybe I\\'m not sure. I don\\'t want to speak\\ntoo much for my wife, but I would guess it\\'s maybe not her most favorite\\npart of the job. She really loves working with the kids and trying\\nto help the kids. You can imagine something\\nlike this where it allows her to focus more on the things that she really cares about in the real-world. Maybe it can help her to\\ngive form to her thought around the child\\'s needs\\nand write these reports. I hope that you\\'ll see\\nthat with a little bit of the right structure\\nin our prompts, we can create these\\nreally powerful ways of giving form to our ideas and our thoughts through large language\\nmodels like ChatGPT.'"
      ]
     },
     "execution_count": 39,
     "metadata": {},
     "output_type": "execute_result"
    }
   ],
   "source": [
    "txt1 "
   ]
  },
  {
   "cell_type": "code",
   "execution_count": 41,
   "metadata": {},
   "outputs": [],
   "source": [
    "Input = \"\"\"\n",
    "ChatGPT is    an AI assistant.\\n\\n It understands natural language.\\n\\n It helps answer    questions fast.\\n\\n It can assist with writing \\n\\ntasks.\\n\\n ChatGPT learns    from vast data.\\n\\nIt adapts to    user needs well.\\n\\n This AI     is by OpenAI's team.\\n\\n It's built to aid     and inform.\\n\\n Ask ChatGPT anything today!\n",
    "\"\"\" \n",
    "size = 61"
   ]
  },
  {
   "cell_type": "code",
   "execution_count": 44,
   "metadata": {},
   "outputs": [
    {
     "name": "stdout",
     "output_type": "stream",
     "text": [
      "{'Hoang': 8}\n"
     ]
    }
   ],
   "source": [
    "scores = {'Hoang':9, 'Hoang':8}\n",
    "print(scores) "
   ]
  },
  {
   "cell_type": "code",
   "execution_count": 45,
   "metadata": {},
   "outputs": [
    {
     "data": {
      "text/plain": [
       "{'Hoang': 8, 'Mai': 7, 'An': 10}"
      ]
     },
     "execution_count": 45,
     "metadata": {},
     "output_type": "execute_result"
    }
   ],
   "source": [
    "scores['Mai'] = 7\n",
    "scores['An'] = 10\n",
    "scores"
   ]
  },
  {
   "cell_type": "code",
   "execution_count": 46,
   "metadata": {},
   "outputs": [
    {
     "data": {
      "text/plain": [
       "{'Hoang': 8, 'Mai': 7}"
      ]
     },
     "execution_count": 46,
     "metadata": {},
     "output_type": "execute_result"
    }
   ],
   "source": [
    "del scores['An']\n",
    "scores"
   ]
  },
  {
   "cell_type": "code",
   "execution_count": 47,
   "metadata": {},
   "outputs": [
    {
     "data": {
      "text/plain": [
       "{'Mai': 7}"
      ]
     },
     "execution_count": 47,
     "metadata": {},
     "output_type": "execute_result"
    }
   ],
   "source": [
    "scores.pop('Hoang')\n",
    "scores"
   ]
  },
  {
   "cell_type": "code",
   "execution_count": 49,
   "metadata": {},
   "outputs": [
    {
     "data": {
      "text/plain": [
       "'Find not found'"
      ]
     },
     "execution_count": 49,
     "metadata": {},
     "output_type": "execute_result"
    }
   ],
   "source": [
    "scores.get('Hoang','Find not found')"
   ]
  },
  {
   "cell_type": "code",
   "execution_count": 50,
   "metadata": {},
   "outputs": [
    {
     "data": {
      "text/plain": [
       "7"
      ]
     },
     "execution_count": 50,
     "metadata": {},
     "output_type": "execute_result"
    }
   ],
   "source": [
    "scores.get('Mai','Find not found')"
   ]
  },
  {
   "cell_type": "code",
   "execution_count": 51,
   "metadata": {},
   "outputs": [],
   "source": [
    "scores = {'Hoang':9, 'Hoang':8}\n",
    "scores['Mai'] = 7\n",
    "scores['An'] = 10\n"
   ]
  },
  {
   "cell_type": "code",
   "execution_count": 53,
   "metadata": {},
   "outputs": [
    {
     "name": "stdout",
     "output_type": "stream",
     "text": [
      "Hoang :  8\n",
      "Mai :  7\n",
      "An :  10\n"
     ]
    }
   ],
   "source": [
    "for key, value  in scores.items():\n",
    "    print(key,': ', value)"
   ]
  },
  {
   "cell_type": "code",
   "execution_count": 54,
   "metadata": {},
   "outputs": [
    {
     "name": "stdout",
     "output_type": "stream",
     "text": [
      "Hoang\n",
      "Mai\n",
      "An\n"
     ]
    }
   ],
   "source": [
    "for key  in scores.keys():\n",
    "    print(key)"
   ]
  },
  {
   "cell_type": "code",
   "execution_count": 55,
   "metadata": {},
   "outputs": [
    {
     "name": "stdout",
     "output_type": "stream",
     "text": [
      "8\n",
      "7\n",
      "10\n"
     ]
    }
   ],
   "source": [
    "for value  in scores.values():\n",
    "    print(value)"
   ]
  },
  {
   "cell_type": "code",
   "execution_count": 56,
   "metadata": {},
   "outputs": [
    {
     "name": "stdout",
     "output_type": "stream",
     "text": [
      "Hoang\n",
      "Mai\n",
      "An\n"
     ]
    }
   ],
   "source": [
    "for key  in scores:\n",
    "    print(key)"
   ]
  },
  {
   "cell_type": "code",
   "execution_count": 57,
   "metadata": {},
   "outputs": [
    {
     "data": {
      "text/plain": [
       "{'Hoang': 8, 'Mai': 7, 'An': 10}"
      ]
     },
     "execution_count": 57,
     "metadata": {},
     "output_type": "execute_result"
    }
   ],
   "source": [
    "scores"
   ]
  },
  {
   "cell_type": "code",
   "execution_count": 58,
   "metadata": {},
   "outputs": [
    {
     "data": {
      "text/plain": [
       "True"
      ]
     },
     "execution_count": 58,
     "metadata": {},
     "output_type": "execute_result"
    }
   ],
   "source": [
    "'Hoang' in scores"
   ]
  },
  {
   "cell_type": "code",
   "execution_count": 59,
   "metadata": {},
   "outputs": [
    {
     "data": {
      "text/plain": [
       "False"
      ]
     },
     "execution_count": 59,
     "metadata": {},
     "output_type": "execute_result"
    }
   ],
   "source": [
    "'Hoa' in scores"
   ]
  },
  {
   "cell_type": "code",
   "execution_count": 1,
   "metadata": {},
   "outputs": [],
   "source": [
    "nmber_to_text = {1:['một','mốt'],2:'hai',5:['năm','lăm']}"
   ]
  },
  {
   "cell_type": "code",
   "execution_count": null,
   "metadata": {},
   "outputs": [],
   "source": []
  }
 ],
 "metadata": {
  "kernelspec": {
   "display_name": "env-teaching",
   "language": "python",
   "name": "python3"
  },
  "language_info": {
   "codemirror_mode": {
    "name": "ipython",
    "version": 3
   },
   "file_extension": ".py",
   "mimetype": "text/x-python",
   "name": "python",
   "nbconvert_exporter": "python",
   "pygments_lexer": "ipython3",
   "version": "3.11.7"
  }
 },
 "nbformat": 4,
 "nbformat_minor": 2
}
