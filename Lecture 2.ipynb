{
 "cells": [
  {
   "cell_type": "markdown",
   "metadata": {},
   "source": [
    "## Lecture 2"
   ]
  },
  {
   "cell_type": "code",
   "execution_count": 1,
   "metadata": {},
   "outputs": [
    {
     "name": "stdout",
     "output_type": "stream",
     "text": [
      "[1, 2, 3, 'new_value', 4, 5, 1]\n"
     ]
    }
   ],
   "source": [
    "alist = [1,2,3,'old', 4,5,1]\n",
    "#change \n",
    "alist[3] = 'new_value'\n",
    "print(alist)\n"
   ]
  },
  {
   "cell_type": "code",
   "execution_count": 2,
   "metadata": {},
   "outputs": [
    {
     "name": "stdout",
     "output_type": "stream",
     "text": [
      "[1, 2, 3, 'new_value', 4, 5, 1, 'new_adding']\n"
     ]
    }
   ],
   "source": [
    "alist.append('new_adding')\n",
    "print(alist) "
   ]
  },
  {
   "cell_type": "code",
   "execution_count": 3,
   "metadata": {},
   "outputs": [
    {
     "name": "stdout",
     "output_type": "stream",
     "text": [
      "[1, 2, 'insert', 3, 'new_value', 4, 5, 1, 'new_adding']\n"
     ]
    }
   ],
   "source": [
    "alist.insert(2, 'insert')\n",
    "print(alist)"
   ]
  },
  {
   "cell_type": "code",
   "execution_count": 4,
   "metadata": {},
   "outputs": [
    {
     "name": "stdout",
     "output_type": "stream",
     "text": [
      "[1, 2, 'insert', 3, 'new_value', 4, 5, 1, 'new_adding', 1, 2, 3]\n"
     ]
    }
   ],
   "source": [
    "alist.extend([1,2,3]) # alist  = alist + [1,2,3]\n",
    "print(alist)"
   ]
  },
  {
   "cell_type": "code",
   "execution_count": 5,
   "metadata": {},
   "outputs": [
    {
     "name": "stdout",
     "output_type": "stream",
     "text": [
      "[1, 2, 'insert', 3, 'new_value', 4, 5, 1, 1, 2, 3]\n"
     ]
    }
   ],
   "source": [
    "del alist[-4]\n",
    "print(alist) "
   ]
  },
  {
   "cell_type": "code",
   "execution_count": 6,
   "metadata": {},
   "outputs": [
    {
     "name": "stdout",
     "output_type": "stream",
     "text": [
      "[1, 2, 'insert', 3, 4, 5, 1, 1, 2, 3]\n"
     ]
    }
   ],
   "source": [
    "alist.remove('new_value')\n",
    "print(alist)"
   ]
  },
  {
   "cell_type": "code",
   "execution_count": 7,
   "metadata": {},
   "outputs": [
    {
     "name": "stdout",
     "output_type": "stream",
     "text": [
      "[2, 'insert', 3, 4, 5, 1, 1, 2, 3]\n"
     ]
    }
   ],
   "source": [
    "alist.remove(1)\n",
    "print(alist)"
   ]
  },
  {
   "cell_type": "code",
   "execution_count": 8,
   "metadata": {},
   "outputs": [
    {
     "name": "stdout",
     "output_type": "stream",
     "text": [
      "[2, 'insert', 3, 4, 5, 2, 3]\n"
     ]
    }
   ],
   "source": [
    "alist.remove(1)\n",
    "alist.remove(1)\n",
    "print(alist)"
   ]
  },
  {
   "cell_type": "code",
   "execution_count": 9,
   "metadata": {},
   "outputs": [
    {
     "name": "stdout",
     "output_type": "stream",
     "text": [
      "[2, 'insert', 3, 4, 5, 2]\n"
     ]
    }
   ],
   "source": [
    "alist.pop() #index = -1\n",
    "print(alist) \n"
   ]
  },
  {
   "cell_type": "code",
   "execution_count": 10,
   "metadata": {},
   "outputs": [
    {
     "data": {
      "text/plain": [
       "['__add__',\n",
       " '__class__',\n",
       " '__class_getitem__',\n",
       " '__contains__',\n",
       " '__delattr__',\n",
       " '__delitem__',\n",
       " '__dir__',\n",
       " '__doc__',\n",
       " '__eq__',\n",
       " '__format__',\n",
       " '__ge__',\n",
       " '__getattribute__',\n",
       " '__getitem__',\n",
       " '__getstate__',\n",
       " '__gt__',\n",
       " '__hash__',\n",
       " '__iadd__',\n",
       " '__imul__',\n",
       " '__init__',\n",
       " '__init_subclass__',\n",
       " '__iter__',\n",
       " '__le__',\n",
       " '__len__',\n",
       " '__lt__',\n",
       " '__mul__',\n",
       " '__ne__',\n",
       " '__new__',\n",
       " '__reduce__',\n",
       " '__reduce_ex__',\n",
       " '__repr__',\n",
       " '__reversed__',\n",
       " '__rmul__',\n",
       " '__setattr__',\n",
       " '__setitem__',\n",
       " '__sizeof__',\n",
       " '__str__',\n",
       " '__subclasshook__',\n",
       " 'append',\n",
       " 'clear',\n",
       " 'copy',\n",
       " 'count',\n",
       " 'extend',\n",
       " 'index',\n",
       " 'insert',\n",
       " 'pop',\n",
       " 'remove',\n",
       " 'reverse',\n",
       " 'sort']"
      ]
     },
     "execution_count": 10,
     "metadata": {},
     "output_type": "execute_result"
    }
   ],
   "source": [
    "dir(alist) "
   ]
  },
  {
   "cell_type": "markdown",
   "metadata": {},
   "source": [
    "**3-4. Guest List:** If you could invite anyone, living or deceased, to dinner, who\n",
    "would you invite? Make a list that includes at least three people you’d like to\n",
    "invite to dinner. Then use your list to print a message to each person, inviting\n",
    "them to dinner.\n",
    "\n",
    "**3-5. Changing Guest List:** You just heard that one of your guests can’t make the\n",
    "dinner, so you need to send out a new set of invitations. You’ll have to think of\n",
    "someone else to invite.\n",
    "•\t Start with your program from Exercise 3-4. Add a print() call at the end\n",
    "of your program stating the name of the guest who can’t make it.\n",
    "•\t Modify your list, replacing the name of the guest who can’t make it with\n",
    "the name of the new person you are inviting.\n",
    "•\t Print a second set of invitation messages, one for each person who is still\n",
    "in your list"
   ]
  },
  {
   "cell_type": "code",
   "execution_count": 12,
   "metadata": {},
   "outputs": [
    {
     "name": "stdout",
     "output_type": "stream",
     "text": [
      "would u like to have dinner, Huy\n",
      "would u like to have dinner, Huyen\n",
      "would u like to have dinner, Bach\n"
     ]
    }
   ],
   "source": [
    "#3.4\n",
    "dinner_inv = ['huy','huyen','bach']\n",
    "print(f'would u like to have dinner, {dinner_inv[0].title()}' )\n",
    "print(f'would u like to have dinner, {dinner_inv[1].title()}' )\n",
    "print(f'would u like to have dinner, {dinner_inv[2].title()}' )\n",
    "\n"
   ]
  },
  {
   "cell_type": "code",
   "execution_count": 13,
   "metadata": {},
   "outputs": [
    {
     "name": "stdout",
     "output_type": "stream",
     "text": [
      "would u like to have dinner, Huy\n",
      "would u like to have dinner, Huyen\n",
      "would u like to have dinner, Long\n"
     ]
    }
   ],
   "source": [
    "#3.5\n",
    "dinner_inv[2] = \"Long\"\n",
    "print(f'would u like to have dinner, {dinner_inv[0].title()}' )\n",
    "print(f'would u like to have dinner, {dinner_inv[1].title()}' )\n",
    "print(f'would u like to have dinner, {dinner_inv[2].title()}' )"
   ]
  },
  {
   "cell_type": "markdown",
   "metadata": {},
   "source": [
    "#3-6. More Guests: You just found a bigger dinner table, so now more space is\n",
    "available. Think of three more guests to invite to dinner.\n",
    "•\t Start with your program from Exercise 3-4 or Exercise 3-5. Add a print()\n",
    "call to the end of your program informing people that you found a bigger\n",
    "dinner table.\n",
    "•\t Use insert() to add one new guest to the beginning of your list.\n",
    "•\t Use insert() to add one new guest to the middle of your list.\n",
    "•\t Use append() to add one new guest to the end of your list.\n",
    "•\t Print a new set of invitation messages, one for each person in your list"
   ]
  },
  {
   "cell_type": "code",
   "execution_count": 15,
   "metadata": {},
   "outputs": [
    {
     "data": {
      "text/plain": [
       "4"
      ]
     },
     "execution_count": 15,
     "metadata": {},
     "output_type": "execute_result"
    }
   ],
   "source": [
    "dinner_inv.insert(0,'anh')\n",
    "len(dinner_inv)"
   ]
  },
  {
   "cell_type": "code",
   "execution_count": 18,
   "metadata": {},
   "outputs": [
    {
     "name": "stdout",
     "output_type": "stream",
     "text": [
      "would u like to have dinner, Anh\n",
      "would u like to have dinner, Huy\n",
      "would u like to have dinner, Khanh\n",
      "would u like to have dinner, Khanh\n",
      "would u like to have dinner, Huyen\n",
      "would u like to have dinner, Long\n"
     ]
    }
   ],
   "source": [
    "dinner_inv.insert(2,'khanh')\n",
    "dinner_inv.append('quynh')\n",
    "print(f'would u like to have dinner, {dinner_inv[0].title()}' )\n",
    "print(f'would u like to have dinner, {dinner_inv[1].title()}' )\n",
    "print(f'would u like to have dinner, {dinner_inv[2].title()}' )\n",
    "print(f'would u like to have dinner, {dinner_inv[3].title()}' )\n",
    "print(f'would u like to have dinner, {dinner_inv[4].title()}' )\n",
    "print(f'would u like to have dinner, {dinner_inv[5].title()}' )"
   ]
  },
  {
   "cell_type": "code",
   "execution_count": 19,
   "metadata": {},
   "outputs": [
    {
     "name": "stdout",
     "output_type": "stream",
     "text": [
      "['anh', 'huy', 'khanh', 'New_guest', 'khanh', 'huyen', 'Long', 'quynh']\n"
     ]
    }
   ],
   "source": [
    "midle = len(dinner_inv)//2\n",
    "dinner_inv.insert(midle, 'New_guest')\n",
    "print(dinner_inv)"
   ]
  },
  {
   "cell_type": "code",
   "execution_count": 21,
   "metadata": {},
   "outputs": [
    {
     "name": "stdout",
     "output_type": "stream",
     "text": [
      "output of sorted function: [1, 2, 2, 2, 3, 3, 4, 6, 8, 9, 10]\n",
      "after using sorted function: [1, 2, 3, 2, 4, 6, 8, 9, 2, 3, 10]\n"
     ]
    }
   ],
   "source": [
    "digits = [1,2,3,2,4,6,8,9,2,3,10]\n",
    "print(\"output of sorted function:\",sorted(digits))\n",
    "print('after using sorted function:',digits) "
   ]
  },
  {
   "cell_type": "code",
   "execution_count": 22,
   "metadata": {},
   "outputs": [
    {
     "name": "stdout",
     "output_type": "stream",
     "text": [
      "output of sorted function: [10, 9, 8, 6, 4, 3, 3, 2, 2, 2, 1]\n",
      "after using sorted function: [1, 2, 3, 2, 4, 6, 8, 9, 2, 3, 10]\n"
     ]
    }
   ],
   "source": [
    "digits = [1,2,3,2,4,6,8,9,2,3,10]\n",
    "print(\"output of sorted function:\",sorted(digits, reverse=True))\n",
    "print('after using sorted function:',digits) "
   ]
  },
  {
   "cell_type": "code",
   "execution_count": 25,
   "metadata": {},
   "outputs": [
    {
     "name": "stdout",
     "output_type": "stream",
     "text": [
      "output of sort method: None\n",
      "after using sort method: [1, 2, 2, 2, 3, 3, 4, 6, 8, 9, 10]\n"
     ]
    }
   ],
   "source": [
    "digits = [1,2,3,2,4,6,8,9,2,3,10]\n",
    "print(\"output of sort method:\",digits.sort())\n",
    "print('after using sort method:',digits) "
   ]
  },
  {
   "cell_type": "code",
   "execution_count": 26,
   "metadata": {},
   "outputs": [
    {
     "data": {
      "text/plain": [
       "['function', 'hello', 'how', 'method', 'python', 'type']"
      ]
     },
     "execution_count": 26,
     "metadata": {},
     "output_type": "execute_result"
    }
   ],
   "source": [
    "words = ['hello','how', 'python','type', 'method','function']\n",
    "sorted(words)"
   ]
  },
  {
   "cell_type": "code",
   "execution_count": 27,
   "metadata": {},
   "outputs": [
    {
     "data": {
      "text/plain": [
       "[2, 'insert', 3, 4, 5, 2]"
      ]
     },
     "execution_count": 27,
     "metadata": {},
     "output_type": "execute_result"
    }
   ],
   "source": [
    "alist "
   ]
  },
  {
   "cell_type": "code",
   "execution_count": 28,
   "metadata": {},
   "outputs": [
    {
     "ename": "TypeError",
     "evalue": "'<' not supported between instances of 'str' and 'int'",
     "output_type": "error",
     "traceback": [
      "\u001b[1;31m---------------------------------------------------------------------------\u001b[0m",
      "\u001b[1;31mTypeError\u001b[0m                                 Traceback (most recent call last)",
      "Cell \u001b[1;32mIn[28], line 1\u001b[0m\n\u001b[1;32m----> 1\u001b[0m \u001b[38;5;28;43msorted\u001b[39;49m\u001b[43m(\u001b[49m\u001b[43malist\u001b[49m\u001b[43m)\u001b[49m \n",
      "\u001b[1;31mTypeError\u001b[0m: '<' not supported between instances of 'str' and 'int'"
     ]
    }
   ],
   "source": [
    "sorted(alist) "
   ]
  },
  {
   "cell_type": "code",
   "execution_count": 29,
   "metadata": {},
   "outputs": [],
   "source": [
    "scores = [['Long',10],['Mai',5],['Hoang',8],['Kien',9],['An',8],['Anh',8]]"
   ]
  },
  {
   "cell_type": "code",
   "execution_count": 31,
   "metadata": {},
   "outputs": [
    {
     "data": {
      "text/plain": [
       "[['An', 8], ['Anh', 8], ['Hoang', 8], ['Kien', 9], ['Long', 10], ['Mai', 5]]"
      ]
     },
     "execution_count": 31,
     "metadata": {},
     "output_type": "execute_result"
    }
   ],
   "source": [
    "sorted(scores)"
   ]
  },
  {
   "cell_type": "code",
   "execution_count": 32,
   "metadata": {},
   "outputs": [
    {
     "data": {
      "text/plain": [
       "[['Mai', 5], ['Hoang', 8], ['An', 8], ['Anh', 8], ['Kien', 9], ['Long', 10]]"
      ]
     },
     "execution_count": 32,
     "metadata": {},
     "output_type": "execute_result"
    }
   ],
   "source": [
    "sorted(scores,key=lambda x: x[1])"
   ]
  },
  {
   "cell_type": "code",
   "execution_count": 33,
   "metadata": {},
   "outputs": [],
   "source": [
    "scores.reverse()\n"
   ]
  },
  {
   "cell_type": "code",
   "execution_count": 34,
   "metadata": {},
   "outputs": [
    {
     "data": {
      "text/plain": [
       "[['Anh', 8], ['An', 8], ['Kien', 9], ['Hoang', 8], ['Mai', 5], ['Long', 10]]"
      ]
     },
     "execution_count": 34,
     "metadata": {},
     "output_type": "execute_result"
    }
   ],
   "source": [
    "scores"
   ]
  },
  {
   "cell_type": "markdown",
   "metadata": {},
   "source": [
    "**3-8. Seeing the World:** Think of at least five places in the world you’d like to\n",
    "visit.\n",
    "\n",
    "•\t Store the locations in a list. Make sure the list is not in alphabetical order.\n",
    "\n",
    "•\t Print your list in its original order. Don’t worry about printing the list neatly, just print it as a raw Python list.\n",
    "\n",
    "•\t Use sorted() to print your list in alphabetical order without modifying the actual list.\n",
    "\n",
    "•\t Show that your list is still in its original order by printing it.\n",
    "\n",
    "•\t Use sorted() to print your list in reverse alphabetical order without changing the order of the original list.\n",
    "\n",
    "•\t Show that your list is still in its original order by printing it again.\n",
    "\n",
    "•\t Use reverse() to change the order of your list. Print the list to show that its order has changed.\n",
    "\n",
    "•\t Use reverse() to change the order of your list again. Print the list to show it’s back to its original order.\n",
    "\n",
    "•\t Use sort() to change your list so it’s stored in alphabetical order. Print the list to show that its order has been changed.\n",
    "\n",
    "•\t Use sort() to change your list so it’s stored in reverse alphabetical order. Print the list to show that its order has change"
   ]
  },
  {
   "cell_type": "code",
   "execution_count": 39,
   "metadata": {},
   "outputs": [
    {
     "name": "stdout",
     "output_type": "stream",
     "text": [
      "['London', 'paris', 'lyon', 'madrid', 'new york']\n",
      "['London', 'lyon', 'madrid', 'new york', 'paris']\n",
      "after using function:\n",
      " ['London', 'paris', 'lyon', 'madrid', 'new york']\n",
      "['London', 'paris', 'lyon', 'madrid', 'new york']\n",
      "['new york', 'madrid', 'lyon', 'paris', 'London']\n",
      "['London', 'paris', 'lyon', 'madrid', 'new york']\n",
      "['London', 'lyon', 'madrid', 'new york', 'paris']\n",
      "['paris', 'new york', 'madrid', 'lyon', 'London']\n"
     ]
    }
   ],
   "source": [
    "locations = ['London','paris','lyon','madrid', 'new york']\n",
    "print(locations)\n",
    "print(sorted(locations))\n",
    "print('after using function:\\n',locations)\n",
    "sorted(locations, reverse=True)\n",
    "print(locations)\n",
    "locations.reverse()\n",
    "print(locations)\n",
    "locations.reverse()\n",
    "print(locations)\n",
    "locations.sort()\n",
    "print(locations)   \n",
    "locations.sort(reverse=True)   \n",
    "print(locations) "
   ]
  },
  {
   "cell_type": "code",
   "execution_count": 41,
   "metadata": {},
   "outputs": [],
   "source": [
    "key_words = [['chatper_1','jupyternotebook'],\n",
    "             ['chapter_1','mardown'],\n",
    "             ['chapter_2','label'],\n",
    "             ['chapter_2','type'],\n",
    "             ['chapter_2','convert_function'],\n",
    "             ['chapter_2','try...except'],\n",
    "             ['chapter_2','input'],\n",
    "             ['chapter_3','list'],\n",
    "             ['chapter_3','asc, add, remove, sort']]"
   ]
  },
  {
   "cell_type": "code",
   "execution_count": 42,
   "metadata": {},
   "outputs": [
    {
     "data": {
      "text/plain": [
       "[['chapter_1', 'mardown'],\n",
       " ['chapter_2', 'convert_function'],\n",
       " ['chapter_2', 'input'],\n",
       " ['chapter_2', 'label'],\n",
       " ['chapter_2', 'try...except'],\n",
       " ['chapter_2', 'type'],\n",
       " ['chapter_3', 'asc, add, remove, sort'],\n",
       " ['chapter_3', 'list'],\n",
       " ['chatper_1', 'jupyternotebook']]"
      ]
     },
     "execution_count": 42,
     "metadata": {},
     "output_type": "execute_result"
    }
   ],
   "source": [
    "sorted(key_words)"
   ]
  },
  {
   "cell_type": "code",
   "execution_count": 43,
   "metadata": {},
   "outputs": [
    {
     "data": {
      "text/plain": [
       "[['chapter_3', 'asc, add, remove, sort'],\n",
       " ['chapter_2', 'convert_function'],\n",
       " ['chapter_2', 'input'],\n",
       " ['chatper_1', 'jupyternotebook'],\n",
       " ['chapter_2', 'label'],\n",
       " ['chapter_3', 'list'],\n",
       " ['chapter_1', 'mardown'],\n",
       " ['chapter_2', 'try...except'],\n",
       " ['chapter_2', 'type']]"
      ]
     },
     "execution_count": 43,
     "metadata": {},
     "output_type": "execute_result"
    }
   ],
   "source": [
    "sorted(key_words, key=lambda x: x[1])"
   ]
  },
  {
   "cell_type": "code",
   "execution_count": 44,
   "metadata": {},
   "outputs": [
    {
     "data": {
      "text/plain": [
       "[['chapter_2', 'type'],\n",
       " ['chapter_3', 'list'],\n",
       " ['chapter_2', 'label'],\n",
       " ['chapter_2', 'input'],\n",
       " ['chapter_1', 'mardown'],\n",
       " ['chapter_2', 'try...except'],\n",
       " ['chatper_1', 'jupyternotebook'],\n",
       " ['chapter_2', 'convert_function'],\n",
       " ['chapter_3', 'asc, add, remove, sort']]"
      ]
     },
     "execution_count": 44,
     "metadata": {},
     "output_type": "execute_result"
    }
   ],
   "source": [
    "sorted(key_words, key=lambda x: len(x[1]))"
   ]
  },
  {
   "cell_type": "code",
   "execution_count": 47,
   "metadata": {},
   "outputs": [
    {
     "name": "stdout",
     "output_type": "stream",
     "text": [
      "H\n",
      "E\n",
      "L\n",
      "L\n",
      "O\n",
      " \n",
      "P\n",
      "Y\n",
      "T\n",
      "H\n",
      "O\n",
      "N\n",
      "!\n"
     ]
    }
   ],
   "source": [
    "message = \"Hello python!\"\n",
    "for letter in message:\n",
    "    print(letter.upper())"
   ]
  },
  {
   "cell_type": "code",
   "execution_count": 48,
   "metadata": {},
   "outputs": [
    {
     "data": {
      "text/plain": [
       "['Hello', 'python!']"
      ]
     },
     "execution_count": 48,
     "metadata": {},
     "output_type": "execute_result"
    }
   ],
   "source": [
    "message.split()"
   ]
  },
  {
   "cell_type": "code",
   "execution_count": 49,
   "metadata": {},
   "outputs": [
    {
     "data": {
      "text/plain": [
       "['Ha',\n",
       " 'Thuy',\n",
       " 'Linh',\n",
       " 'Le',\n",
       " 'Truong',\n",
       " 'Huy',\n",
       " 'Nguyen',\n",
       " 'Chien',\n",
       " 'Thang',\n",
       " 'Nguyen',\n",
       " 'Ngoc',\n",
       " 'Quynh',\n",
       " 'Nguyen',\n",
       " 'Thanh',\n",
       " 'Huyen',\n",
       " 'Nguyen',\n",
       " 'Thi',\n",
       " 'Hong',\n",
       " 'Anh',\n",
       " 'Nguyen',\n",
       " 'Thi',\n",
       " 'Thanh',\n",
       " 'Nguyen',\n",
       " 'Tien',\n",
       " 'Thang',\n",
       " 'Pham',\n",
       " 'Trinh',\n",
       " 'Bach',\n",
       " 'Pham',\n",
       " 'Tuan',\n",
       " 'Long',\n",
       " 'Tran',\n",
       " 'Nguyen',\n",
       " 'Hai',\n",
       " 'Dang',\n",
       " 'Tran',\n",
       " 'Nguyen',\n",
       " 'Tam',\n",
       " 'Vu',\n",
       " 'Duc',\n",
       " 'Minh']"
      ]
     },
     "execution_count": 49,
     "metadata": {},
     "output_type": "execute_result"
    }
   ],
   "source": [
    "text_names = \"\"\"Ha Thuy Linh\n",
    "Le Truong Huy\n",
    "Nguyen Chien Thang\n",
    "Nguyen Ngoc Quynh\n",
    "Nguyen Thanh Huyen\n",
    "Nguyen Thi Hong Anh\n",
    "Nguyen Thi Thanh\n",
    "Nguyen Tien Thang\n",
    "Pham Trinh Bach\n",
    "Pham Tuan Long\n",
    "Tran Nguyen Hai Dang\n",
    "Tran Nguyen Tam\n",
    "Vu Duc Minh\"\"\"\n",
    "text_names.split()"
   ]
  },
  {
   "cell_type": "code",
   "execution_count": 50,
   "metadata": {},
   "outputs": [
    {
     "data": {
      "text/plain": [
       "['Ha Thuy Linh',\n",
       " 'Le Truong Huy',\n",
       " 'Nguyen Chien Thang',\n",
       " 'Nguyen Ngoc Quynh',\n",
       " 'Nguyen Thanh Huyen',\n",
       " 'Nguyen Thi Hong Anh',\n",
       " 'Nguyen Thi Thanh',\n",
       " 'Nguyen Tien Thang',\n",
       " 'Pham Trinh Bach',\n",
       " 'Pham Tuan Long',\n",
       " 'Tran Nguyen Hai Dang',\n",
       " 'Tran Nguyen Tam',\n",
       " 'Vu Duc Minh']"
      ]
     },
     "execution_count": 50,
     "metadata": {},
     "output_type": "execute_result"
    }
   ],
   "source": [
    "text_names.splitlines()  #newline: \\n"
   ]
  },
  {
   "cell_type": "code",
   "execution_count": 51,
   "metadata": {},
   "outputs": [
    {
     "data": {
      "text/plain": [
       "['H', 'e', 'l', 'l', 'o', ' ', 'p', 'y', 't', 'h', 'o', 'n', '!']"
      ]
     },
     "execution_count": 51,
     "metadata": {},
     "output_type": "execute_result"
    }
   ],
   "source": [
    "list(message)"
   ]
  },
  {
   "cell_type": "code",
   "execution_count": 52,
   "metadata": {},
   "outputs": [
    {
     "data": {
      "text/plain": [
       "['H',\n",
       " ' Thuy Linh\\nLe Truong Huy\\nNguyen Chien Th',\n",
       " 'ng\\nNguyen Ngoc Quynh\\nNguyen Th',\n",
       " 'nh Huyen\\nNguyen Thi Hong Anh\\nNguyen Thi Th',\n",
       " 'nh\\nNguyen Tien Th',\n",
       " 'ng\\nPh',\n",
       " 'm Trinh B',\n",
       " 'ch\\nPh',\n",
       " 'm Tu',\n",
       " 'n Long\\nTr',\n",
       " 'n Nguyen H',\n",
       " 'i D',\n",
       " 'ng\\nTr',\n",
       " 'n Nguyen T',\n",
       " 'm\\nVu Duc Minh']"
      ]
     },
     "execution_count": 52,
     "metadata": {},
     "output_type": "execute_result"
    }
   ],
   "source": [
    "text_names.split('a')"
   ]
  },
  {
   "cell_type": "code",
   "execution_count": 53,
   "metadata": {},
   "outputs": [
    {
     "name": "stdout",
     "output_type": "stream",
     "text": [
      "abc\n"
     ]
    }
   ],
   "source": [
    "chars = ['a','b','c']\n",
    "mes = ''\n",
    "for char in chars:\n",
    "    mes += char \n",
    "print(mes) "
   ]
  },
  {
   "cell_type": "code",
   "execution_count": 55,
   "metadata": {},
   "outputs": [
    {
     "data": {
      "text/plain": [
       "'a-b-c'"
      ]
     },
     "execution_count": 55,
     "metadata": {},
     "output_type": "execute_result"
    }
   ],
   "source": [
    "'-'.join(chars)"
   ]
  },
  {
   "cell_type": "code",
   "execution_count": 57,
   "metadata": {},
   "outputs": [
    {
     "data": {
      "text/plain": [
       "\"\\nLooking into the future isn’t about crystal balls, it’s about math and problem-solving skills.\\n\\nActuaries use data to help predict future outcomes. They help organizations evaluate risk, and plan and protect from financial loss. It's a crucial role in the psychological, physical, and financial stability of society. From impacting social policies, to tracking climate change, to helping businesses grow, actuaries play a major role in everyone’s peace of mind.\\n\\nSo yeah, having good analytical skills is good for the world.\\n\""
      ]
     },
     "execution_count": 57,
     "metadata": {},
     "output_type": "execute_result"
    }
   ],
   "source": [
    "text = '''\n",
    "Looking into the future isn’t about crystal balls, it’s about math and problem-solving skills.\n",
    "\n",
    "Actuaries use data to help predict future outcomes. They help organizations evaluate risk, and plan and protect from financial loss. It's a crucial role in the psychological, physical, and financial stability of society. From impacting social policies, to tracking climate change, to helping businesses grow, actuaries play a major role in everyone’s peace of mind.\n",
    "\n",
    "So yeah, having good analytical skills is good for the world.\n",
    "'''"
   ]
  },
  {
   "cell_type": "code",
   "execution_count": 68,
   "metadata": {},
   "outputs": [
    {
     "name": "stdout",
     "output_type": "stream",
     "text": [
      "number of word in text: 84\n"
     ]
    }
   ],
   "source": [
    "# count frequency of words in the text\n",
    "#step 1: normalize\n",
    "special_letter = ['.',',','!','-']\n",
    "text_nor = text.lower() \n",
    "for letter in special_letter:\n",
    "    text_nor = text_nor.replace(letter,' ')\n",
    "text_nor = text_nor.replace('’s',' is')\n",
    "text_nor = text_nor.replace('n’t',' not')\n",
    "words = text_nor.split()\n",
    "print('number of word in text:', len(words))"
   ]
  },
  {
   "cell_type": "code",
   "execution_count": 61,
   "metadata": {},
   "outputs": [
    {
     "data": {
      "text/plain": [
       "2"
      ]
     },
     "execution_count": 61,
     "metadata": {},
     "output_type": "execute_result"
    }
   ],
   "source": [
    "words.count('actuaries')"
   ]
  },
  {
   "cell_type": "code",
   "execution_count": 65,
   "metadata": {},
   "outputs": [
    {
     "name": "stdout",
     "output_type": "stream",
     "text": [
      "\n",
      "looking into the future isn’t about crystal balls  itis about math and problem solving skills \n",
      "\n",
      "actuaries use data to help predict future outcomes  they help organizations evaluate risk  and plan and protect from financial loss  it's a crucial role in the psychological  physical  and financial stability of society  from impacting social policies  to tracking climate change  to helping businesses grow  actuaries play a major role in everyoneis peace of mind \n",
      "\n",
      "so yeah  having good analytical skills is good for the world \n",
      "\n"
     ]
    }
   ],
   "source": [
    "print(text_nor)"
   ]
  },
  {
   "cell_type": "code",
   "execution_count": null,
   "metadata": {},
   "outputs": [],
   "source": []
  }
 ],
 "metadata": {
  "kernelspec": {
   "display_name": "env-teaching",
   "language": "python",
   "name": "python3"
  },
  "language_info": {
   "codemirror_mode": {
    "name": "ipython",
    "version": 3
   },
   "file_extension": ".py",
   "mimetype": "text/x-python",
   "name": "python",
   "nbconvert_exporter": "python",
   "pygments_lexer": "ipython3",
   "version": "3.11.7"
  }
 },
 "nbformat": 4,
 "nbformat_minor": 2
}
